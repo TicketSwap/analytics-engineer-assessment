{
 "cells": [
  {
   "cell_type": "code",
   "execution_count": 31,
   "metadata": {},
   "outputs": [],
   "source": [
    "import pandas as pd\n",
    "from sqlalchemy import text, create_engine, URL"
   ]
  },
  {
   "cell_type": "code",
   "execution_count": 32,
   "metadata": {},
   "outputs": [],
   "source": [
    "url = URL(\n",
    "    drivername=\"mysql+mysqldb\",\n",
    "    username=\"root\",\n",
    "    password=\"password\",\n",
    "    host=\"localhost\",\n",
    "    port=3306,\n",
    "    database=\"public\",\n",
    "    query={}\n",
    ")\n",
    "engine = create_engine(url=url)"
   ]
  },
  {
   "cell_type": "code",
   "execution_count": 33,
   "metadata": {},
   "outputs": [],
   "source": [
    "ad_df = pd.read_csv(\"./data/ad.csv\")\n",
    "event_location_df = pd.read_csv(\"./data/event_location.csv\")\n",
    "event_df = pd.read_csv(\"./data/event.csv\")"
   ]
  },
  {
   "cell_type": "code",
   "execution_count": 34,
   "metadata": {},
   "outputs": [],
   "source": [
    "with engine.connect() as con:\n",
    "    ad_df.to_sql(name='ad', con=con)\n",
    "    event_location_df.to_sql(name='event_location', con=con)\n",
    "    event_df.to_sql(name='event', con=con)"
   ]
  }
 ],
 "metadata": {
  "kernelspec": {
   "display_name": ".venv",
   "language": "python",
   "name": "python3"
  },
  "language_info": {
   "codemirror_mode": {
    "name": "ipython",
    "version": 3
   },
   "file_extension": ".py",
   "mimetype": "text/x-python",
   "name": "python",
   "nbconvert_exporter": "python",
   "pygments_lexer": "ipython3",
   "version": "3.9.13"
  }
 },
 "nbformat": 4,
 "nbformat_minor": 2
}
